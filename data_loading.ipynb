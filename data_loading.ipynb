{
 "cells": [
  {
   "cell_type": "code",
   "execution_count": null,
   "id": "a20efa47",
   "metadata": {},
   "outputs": [],
   "source": [
    "import numpy as np\n",
    "import matplotlib.pyplot as plt\n",
    "import pickle"
   ]
  },
  {
   "cell_type": "code",
   "execution_count": null,
   "id": "899cd727",
   "metadata": {},
   "outputs": [],
   "source": [
    "# downloads the data in a pickle file to colab environment\n",
    "!gdown 1VDXhhotRrf_hUt5VP0zxGrCdg0A8l8Dy"
   ]
  }
 ],
 "metadata": {
  "language_info": {
   "name": "python"
  }
 },
 "nbformat": 4,
 "nbformat_minor": 5
}
